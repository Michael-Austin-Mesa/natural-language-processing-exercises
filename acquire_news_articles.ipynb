{
 "cells": [
  {
   "cell_type": "code",
   "execution_count": 1,
   "id": "1d141876",
   "metadata": {},
   "outputs": [],
   "source": [
    "from requests import get\n",
    "from bs4 import BeautifulSoup\n",
    "import os\n",
    "import pandas as pd"
   ]
  },
  {
   "cell_type": "code",
   "execution_count": 2,
   "id": "b1c47e6c",
   "metadata": {},
   "outputs": [],
   "source": [
    "url = 'https://inshorts.com/en/read'\n",
    "response = get(url)\n",
    "soup = BeautifulSoup(response.content, 'html.parser')"
   ]
  },
  {
   "cell_type": "code",
   "execution_count": 3,
   "id": "5bfe1aba",
   "metadata": {},
   "outputs": [
    {
     "data": {
      "text/plain": [
       "'Joshimath divided into 3 zones, govt says most damaged buildings to be demolished'"
      ]
     },
     "execution_count": 3,
     "metadata": {},
     "output_type": "execute_result"
    }
   ],
   "source": [
    "soup.find_all('span', itemprop='headline')[0].text"
   ]
  },
  {
   "cell_type": "code",
   "execution_count": 4,
   "id": "694d0096",
   "metadata": {},
   "outputs": [
    {
     "data": {
      "text/plain": [
       "\"Uttarakhand's Joshimath, where a majority of buildings developed cracks, has been divided into three zones based on the magnitude of possible danger. RM Sundaram, Secretary to CM Pushkar Singh Dhami, said the town has been divided into 'danger', 'buffer' and 'completely safe' zones. Sundaram added that the buildings which have sustained the most damage will be demolished. \""
      ]
     },
     "execution_count": 4,
     "metadata": {},
     "output_type": "execute_result"
    }
   ],
   "source": [
    "soup.find_all('div', itemprop='articleBody')[0].text"
   ]
  },
  {
   "cell_type": "code",
   "execution_count": 5,
   "id": "0d6b01c7",
   "metadata": {},
   "outputs": [
    {
     "data": {
      "text/plain": [
       "['national',\n",
       " 'business',\n",
       " 'sports',\n",
       " 'world',\n",
       " 'politics',\n",
       " 'technology',\n",
       " 'startup',\n",
       " 'entertainment',\n",
       " 'miscellaneous',\n",
       " 'hatke',\n",
       " 'science',\n",
       " 'automobile']"
      ]
     },
     "execution_count": 5,
     "metadata": {},
     "output_type": "execute_result"
    }
   ],
   "source": [
    "categories = [li.text.lower() for li in soup.select('li')][1:]\n",
    "categories[0] = 'national'\n",
    "categories"
   ]
  },
  {
   "cell_type": "code",
   "execution_count": 6,
   "id": "c77429f0",
   "metadata": {},
   "outputs": [],
   "source": [
    "categories = [li.text.lower() for li in soup.select('li')][1:]\n",
    "categories[0] = 'national'\n",
    "\n",
    "inshorts = []\n",
    "\n",
    "for category in categories:\n",
    "    \n",
    "    url = 'https://inshorts.com/en/read' + '/' + category\n",
    "    response = get(url)\n",
    "    soup = BeautifulSoup(response.content, 'html.parser')\n",
    "    \n",
    "    titles = [span.text for span in soup.find_all('span', itemprop='headline')]\n",
    "    contents = [div.text for div in soup.find_all('div', itemprop='articleBody')]\n",
    "    \n",
    "    for i in range(len(titles)):\n",
    "        \n",
    "        article = {\n",
    "            'title': titles[i],\n",
    "            'content': contents[i],\n",
    "            'category': category,\n",
    "        }\n",
    "        \n",
    "        inshorts.append(article)"
   ]
  },
  {
   "cell_type": "code",
   "execution_count": 7,
   "id": "5ddc18b1",
   "metadata": {},
   "outputs": [
    {
     "data": {
      "text/plain": [
       "[{'title': \"Drunk man smoked in toilet, another peed on woman's blanket on Air India flight\",\n",
       "  'content': \"A drunk passenger smoked in the toilet on a Paris-Delhi Air India flight on December 6, the DGCA said. This is the same Paris-Delhi flight on which another drunk man urinated on a woman co-passenger's blanket when she went to the lavatory. Separately, Shankar Mishra was arrested for urinating on a woman on Air India's November 26 New York-Delhi flight.\",\n",
       "  'category': 'national'},\n",
       " {'title': 'Coaching centre run by Rajasthan paper leak case accused demolished in Jaipur',\n",
       "  'content': 'The Jaipur Development Authority (JDA) on Monday demolished a five-storey building of a coaching centre run by Suresh Dhaka, whose name appeared in the second-grade teacher recruitment examination paper leak case. The JDA found that the Adhigam Coaching Centre building was built in violation of laws. The coaching institute was served the notice twice, an official said.',\n",
       "  'category': 'national'},\n",
       " {'title': 'Joshimath divided into 3 zones, govt says most damaged buildings to be demolished',\n",
       "  'content': \"Uttarakhand's Joshimath, where a majority of buildings developed cracks, has been divided into three zones based on the magnitude of possible danger. RM Sundaram, Secretary to CM Pushkar Singh Dhami, said the town has been divided into 'danger', 'buffer' and 'completely safe' zones. Sundaram added that the buildings which have sustained the most damage will be demolished. \",\n",
       "  'category': 'national'},\n",
       " {'title': 'Temporary ban on BS-III petrol & BS-IV diesel cars in Delhi over severe AQI',\n",
       "  'content': 'The Delhi government has decided to impose a temporary ban on plying of BS-III petrol and BS-IV diesel four-wheelers in the national capital from Tuesday in view of severe air quality. \"The ban is likely to be in place till Friday. If the air quality improves, the ban could be lifted before Friday,\" a senior Transport Department official said.',\n",
       "  'category': 'national'},\n",
       " {'title': 'I decided to wear t-shirt till I shiver after meeting 3 children in torn shirts in MP: Rahul',\n",
       "  'content': 'Congress leader Rahul Gandhi on Monday told reporters that he decided to wear only a t-shirt after meeting three girls in Madhya Pradesh. \"When yatra reached Madhya Pradesh, it was mildly cold. Three poor children came to me in torn shirts, they were shivering. That day, I decided until I shiver I will only be wearing t-shirt,\" he said.',\n",
       "  'category': 'national'}]"
      ]
     },
     "execution_count": 7,
     "metadata": {},
     "output_type": "execute_result"
    }
   ],
   "source": [
    "inshorts[0:5]"
   ]
  },
  {
   "cell_type": "code",
   "execution_count": 8,
   "id": "ce8fee30",
   "metadata": {},
   "outputs": [
    {
     "data": {
      "text/html": [
       "<div>\n",
       "<style scoped>\n",
       "    .dataframe tbody tr th:only-of-type {\n",
       "        vertical-align: middle;\n",
       "    }\n",
       "\n",
       "    .dataframe tbody tr th {\n",
       "        vertical-align: top;\n",
       "    }\n",
       "\n",
       "    .dataframe thead th {\n",
       "        text-align: right;\n",
       "    }\n",
       "</style>\n",
       "<table border=\"1\" class=\"dataframe\">\n",
       "  <thead>\n",
       "    <tr style=\"text-align: right;\">\n",
       "      <th></th>\n",
       "      <th>title</th>\n",
       "      <th>content</th>\n",
       "      <th>category</th>\n",
       "    </tr>\n",
       "  </thead>\n",
       "  <tbody>\n",
       "    <tr>\n",
       "      <th>0</th>\n",
       "      <td>Drunk man smoked in toilet, another peed on wo...</td>\n",
       "      <td>A drunk passenger smoked in the toilet on a Pa...</td>\n",
       "      <td>national</td>\n",
       "    </tr>\n",
       "    <tr>\n",
       "      <th>1</th>\n",
       "      <td>Coaching centre run by Rajasthan paper leak ca...</td>\n",
       "      <td>The Jaipur Development Authority (JDA) on Mond...</td>\n",
       "      <td>national</td>\n",
       "    </tr>\n",
       "    <tr>\n",
       "      <th>2</th>\n",
       "      <td>Joshimath divided into 3 zones, govt says most...</td>\n",
       "      <td>Uttarakhand's Joshimath, where a majority of b...</td>\n",
       "      <td>national</td>\n",
       "    </tr>\n",
       "    <tr>\n",
       "      <th>3</th>\n",
       "      <td>Temporary ban on BS-III petrol &amp; BS-IV diesel ...</td>\n",
       "      <td>The Delhi government has decided to impose a t...</td>\n",
       "      <td>national</td>\n",
       "    </tr>\n",
       "    <tr>\n",
       "      <th>4</th>\n",
       "      <td>I decided to wear t-shirt till I shiver after ...</td>\n",
       "      <td>Congress leader Rahul Gandhi on Monday told re...</td>\n",
       "      <td>national</td>\n",
       "    </tr>\n",
       "    <tr>\n",
       "      <th>...</th>\n",
       "      <td>...</td>\n",
       "      <td>...</td>\n",
       "      <td>...</td>\n",
       "    </tr>\n",
       "    <tr>\n",
       "      <th>290</th>\n",
       "      <td>Tesla reports record deliveries of 1.3 million...</td>\n",
       "      <td>Tesla on Monday reported that it delivered rec...</td>\n",
       "      <td>automobile</td>\n",
       "    </tr>\n",
       "    <tr>\n",
       "      <th>291</th>\n",
       "      <td>Rolls-Royce reports record car sales in 118 years</td>\n",
       "      <td>Luxury car maker Rolls-Royce has sold 6021 car...</td>\n",
       "      <td>automobile</td>\n",
       "    </tr>\n",
       "    <tr>\n",
       "      <th>292</th>\n",
       "      <td>Tesla cuts Model 3, Model Y prices in China fo...</td>\n",
       "      <td>Tesla on Friday reduced prices for its Model 3...</td>\n",
       "      <td>automobile</td>\n",
       "    </tr>\n",
       "    <tr>\n",
       "      <th>293</th>\n",
       "      <td>Weakening rupee could force us to raise domest...</td>\n",
       "      <td>Mercedes-Benz India Managing Director Santosh ...</td>\n",
       "      <td>automobile</td>\n",
       "    </tr>\n",
       "    <tr>\n",
       "      <th>294</th>\n",
       "      <td>Electric two-wheeler sales cross 6-lakh mark i...</td>\n",
       "      <td>Electric two-wheeler (E2W) sales in 2022 hit a...</td>\n",
       "      <td>automobile</td>\n",
       "    </tr>\n",
       "  </tbody>\n",
       "</table>\n",
       "<p>295 rows × 3 columns</p>\n",
       "</div>"
      ],
      "text/plain": [
       "                                                 title  \\\n",
       "0    Drunk man smoked in toilet, another peed on wo...   \n",
       "1    Coaching centre run by Rajasthan paper leak ca...   \n",
       "2    Joshimath divided into 3 zones, govt says most...   \n",
       "3    Temporary ban on BS-III petrol & BS-IV diesel ...   \n",
       "4    I decided to wear t-shirt till I shiver after ...   \n",
       "..                                                 ...   \n",
       "290  Tesla reports record deliveries of 1.3 million...   \n",
       "291  Rolls-Royce reports record car sales in 118 years   \n",
       "292  Tesla cuts Model 3, Model Y prices in China fo...   \n",
       "293  Weakening rupee could force us to raise domest...   \n",
       "294  Electric two-wheeler sales cross 6-lakh mark i...   \n",
       "\n",
       "                                               content    category  \n",
       "0    A drunk passenger smoked in the toilet on a Pa...    national  \n",
       "1    The Jaipur Development Authority (JDA) on Mond...    national  \n",
       "2    Uttarakhand's Joshimath, where a majority of b...    national  \n",
       "3    The Delhi government has decided to impose a t...    national  \n",
       "4    Congress leader Rahul Gandhi on Monday told re...    national  \n",
       "..                                                 ...         ...  \n",
       "290  Tesla on Monday reported that it delivered rec...  automobile  \n",
       "291  Luxury car maker Rolls-Royce has sold 6021 car...  automobile  \n",
       "292  Tesla on Friday reduced prices for its Model 3...  automobile  \n",
       "293  Mercedes-Benz India Managing Director Santosh ...  automobile  \n",
       "294  Electric two-wheeler (E2W) sales in 2022 hit a...  automobile  \n",
       "\n",
       "[295 rows x 3 columns]"
      ]
     },
     "execution_count": 8,
     "metadata": {},
     "output_type": "execute_result"
    }
   ],
   "source": [
    "inshorts_article_df = pd.DataFrame(inshorts)\n",
    "inshorts_article_df"
   ]
  },
  {
   "cell_type": "code",
   "execution_count": 9,
   "id": "4a36ea90",
   "metadata": {},
   "outputs": [],
   "source": [
    "inshorts_article_df.to_csv('news_articles.csv', index=False)"
   ]
  },
  {
   "cell_type": "code",
   "execution_count": null,
   "id": "e0b19505",
   "metadata": {},
   "outputs": [],
   "source": []
  }
 ],
 "metadata": {
  "kernelspec": {
   "display_name": "Python 3 (ipykernel)",
   "language": "python",
   "name": "python3"
  },
  "language_info": {
   "codemirror_mode": {
    "name": "ipython",
    "version": 3
   },
   "file_extension": ".py",
   "mimetype": "text/x-python",
   "name": "python",
   "nbconvert_exporter": "python",
   "pygments_lexer": "ipython3",
   "version": "3.9.12"
  }
 },
 "nbformat": 4,
 "nbformat_minor": 5
}
