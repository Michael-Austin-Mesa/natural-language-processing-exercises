{
 "cells": [
  {
   "cell_type": "code",
   "execution_count": 1,
   "id": "d9d40b12",
   "metadata": {},
   "outputs": [],
   "source": [
    "from requests import get\n",
    "from bs4 import BeautifulSoup\n",
    "import os\n",
    "import pandas as pd"
   ]
  },
  {
   "cell_type": "markdown",
   "id": "6b8caa2a",
   "metadata": {},
   "source": [
    "## codeup blog"
   ]
  },
  {
   "cell_type": "code",
   "execution_count": 2,
   "id": "840751f1",
   "metadata": {},
   "outputs": [],
   "source": [
    "url = 'https://codeup.com/blog'\n",
    "headers = {'User-Agent':'Codeup Data Science'}\n",
    "response = get(url, headers=headers)"
   ]
  },
  {
   "cell_type": "code",
   "execution_count": 3,
   "id": "0e392415",
   "metadata": {},
   "outputs": [],
   "source": [
    "soup = BeautifulSoup(response.content, 'html.parser' )"
   ]
  },
  {
   "cell_type": "code",
   "execution_count": 4,
   "id": "b68910b0",
   "metadata": {},
   "outputs": [
    {
     "data": {
      "text/plain": [
       "[<a class=\"more-link\" href=\"https://codeup.com/data-science/become-a-data-scientist/\">read more</a>,\n",
       " <a class=\"more-link\" href=\"https://codeup.com/employers/hiring-tech-talent/\">read more</a>,\n",
       " <a class=\"more-link\" href=\"https://codeup.com/cloud-administration/cap-funding-options/\">read more</a>,\n",
       " <a class=\"more-link\" href=\"https://codeup.com/dallas-info/it-professionals-dallas/\">read more</a>,\n",
       " <a class=\"more-link\" href=\"https://codeup.com/codeup-news/codeup-voted-1-technical-school-in-dfw/\">read more</a>,\n",
       " <a class=\"more-link\" href=\"https://codeup.com/tips-for-prospective-students/financing/codeups-scholarships/\">read more</a>]"
      ]
     },
     "execution_count": 4,
     "metadata": {},
     "output_type": "execute_result"
    }
   ],
   "source": [
    "soup.select('.more-link')"
   ]
  },
  {
   "cell_type": "code",
   "execution_count": 5,
   "id": "1c010b1a",
   "metadata": {},
   "outputs": [
    {
     "data": {
      "text/plain": [
       "<a class=\"more-link\" href=\"https://codeup.com/data-science/become-a-data-scientist/\">read more</a>"
      ]
     },
     "execution_count": 5,
     "metadata": {},
     "output_type": "execute_result"
    }
   ],
   "source": [
    "soup.select('.more-link')[0]"
   ]
  },
  {
   "cell_type": "code",
   "execution_count": 6,
   "id": "848fb3d5",
   "metadata": {},
   "outputs": [
    {
     "data": {
      "text/plain": [
       "'https://codeup.com/data-science/become-a-data-scientist/'"
      ]
     },
     "execution_count": 6,
     "metadata": {},
     "output_type": "execute_result"
    }
   ],
   "source": [
    "soup.select('.more-link')[0]['href']"
   ]
  },
  {
   "cell_type": "code",
   "execution_count": 7,
   "id": "e6800e46",
   "metadata": {},
   "outputs": [],
   "source": [
    "url = 'https://codeup.com/blog/'\n",
    "headers = {'User-Agent': 'Codeup Data Science'}\n",
    "response = get(url, headers=headers)\n",
    "\n",
    "soup = BeautifulSoup(response.content, 'html.parser')\n",
    "\n",
    "links = [link['href'] for link in soup.select('.more-link')]\n",
    "\n",
    "articles = []\n",
    "\n",
    "for url in links:\n",
    "    \n",
    "    url_response = get(url, headers=headers)\n",
    "    soup = BeautifulSoup(url_response.text)\n",
    "    \n",
    "    title = soup.find('h1', class_='entry-title').text\n",
    "    content = soup.find('div', class_='entry-content').text.strip()\n",
    "    \n",
    "    article_dict = {\n",
    "        'title': title,\n",
    "        'content': content\n",
    "    }\n",
    "    \n",
    "    articles.append(article_dict)"
   ]
  },
  {
   "cell_type": "code",
   "execution_count": 8,
   "id": "e4211ab3",
   "metadata": {},
   "outputs": [
    {
     "data": {
      "text/plain": [
       "[{'title': 'Become a Data Scientist in 6 Months!',\n",
       "  'content': 'Are you feeling unfulfilled in your work but want to avoid returning to the traditional educational route? Codeup can help! Starting over as a professional is daunting and not always ideal. Codeup can help you go from a career you are bored with, to a job that excites you in just 6 months!\\nHere’s how…\\nData Science Program\\nDuring our 20-week program, you will have the opportunity to take your career to new heights with data science being one of the most needed jobs in tech.\\nYou’ll gather data, then clean it, explore it for trends, and apply machine learning models to make predictions.\\nUpon completing this program, you will know how to turn insights into actionable recommendations. You’ll be a huge asset to any company, having all the technical skills to become a data scientist with projects upon projects of experience under your belt.\\nCodeup\\nA common reason individuals opt not to change their careers is fear it is too late. Codeup has crafted a program that will guide you through your career transition and prove that you can jumpstart a new job at any age and experience level.\\nWhen you decide to attend Codeup, you get a support system. First, our admissions team will guide you through getting started as well as assist with getting your financial aid squared away.\\nOnce your program begins, you will have industry experts as your instructors who will help you reach your full potential and complete the program successfully.\\nNext, you will have a student experience team ready to assist you with navigating through the program and any of life’s obstacles that may arise.\\nFinally, you have a placement team to help you secure the job you’ll work so hard to land!\\n\\nIf you do not land a job within six months of completing a Codeup program, we will refund 100% of your paid tuition.\\nIf you aren’t sure if a career in data science is right for you, consider attending our 100% free instructor-led workshops. These workshops are designed to give you a taste of what you’ll learn in our programs, as well as give you information on financial aid and admissions.\\nWe can also provide program-specific information to your inbox at any time! Get started now or give us a call at (210) 802-7289 and we’ll walk you through the process.\\nJumpstart your tech career with the first and only accredited bootcamp in Texas!*\\n*Codeup is accredited for postsecondary, non-degree granting, career and technology programs by the Middle States Commission on Secondary Schools of the Middle States Association of Colleges and Schools, 3624 Market Street, Philadelphia, PA 19104, (267) 284-5000'},\n",
       " {'title': 'Hiring Tech Talent Around the Holidays',\n",
       "  'content': 'Are you a hiring manager having trouble filling an IT position around the holidays? Codeup has a solution for hiring tech talent year round.\\nBoth job seekers and employers can run into obstacles when attempting to find and fill open roles around the holidays. When accounting for company closures, year end activities and vacations, hiring processes tend to slow.\\nCodeup\\nCodeup is the first accredited* tech bootcamp in Texas. Our program offerings include Full-Stack Web Development, Data Science and Cloud Administration. In 6 months or less, we produce quality tech talent well-equipped to enter the workforce.\\nHire our Grads\\nThere is a common misconception that coding bootcamp graduates are not trained well enough to perform at high standards. Codeup works daily to ensure the quality of education we are delivering is nothing shy of excellent to debunk this belief.\\nCodeup is currently the only accredited tech bootcamp in Texas. With accreditation comes a high caliber of educational expectations that we must deliver. Our graduates come with experience gained from hands-on intensive training from industry experts. Consider hiring our graduates because they are capable of meeting your needs.\\nBecome an Employer Partner\\nHiring a Codeup grad is free. There are no strings attached. Our promise to our students is to give them placement assistance to land their next position in-field.\\nOur placement team works to constantly build our network of employer partners. Employer partners are companies that hire for tech talent. These partners stay connected with Codeup year round to potentially hire students from multiple cohorts from either our San Antonio, TX or Dallas, TX campuses.\\nA few of our current employer partners include: H-E-B, USAA, Whole Foods Market, Oracle, Accenture and many more.\\nBecome an employer partner today to start hiring! Take a look at our Alumni Portal to view graduates looking for work and their resumes.\\nProspective Students\\nCodeup is a great place to launch your career in tech! We are the first and currently the only accredited tech bootcamp in Texas!\\nWe also offer a tuition refund guarantee which states that if a student does not find a job within 6 months of completing a Codeup program, we will issue a full refund on paid tuition.\\nIf you aren’t sure if a career in tech is right for you, consider attending our 100% free instructor-led workshops. These workshops are designed to give you a taste of what you’ll learn in our programs, as well as give you information on financial aid and admissions.\\nWe can also provide program-specific information to your inbox at any time! Get started now or give us a call at (210) 802-7289 and we’ll walk you through the process. We’d love to hear from you!\\n*Codeup is accredited for postsecondary, non-degree granting, career and technology programs by the Middle States Commission on Secondary Schools of the Middle States Association of Colleges and Schools, 3624 Market Street, Philadelphia, PA 19104, (267) 284-5000'},\n",
       " {'title': 'Cloud Administration Program New Funding Options',\n",
       "  'content': 'Finding resources to fund your educational goals is possibly the largest obstacle students face when pursuing higher education.\\nCodeup offers a variety of funding options to select from, and most recently our Cloud Administration program has become eligible for GI Bill and VR&E funding.\\nCodeup Program\\nCodeup’s Cloud Administration program is a full-time 15-week course designed to prepare students for two AWS certifications: AWS Cloud Practitioner and AWS Solutions Architect Associate.\\nThroughout the program you’ll learn to build infrastructure that enables software and data science products, manage cloud deployments and optimize for cloud performance. With instruction from industry experts, upon successful completion of the program, you’ll be prepared for an entry-level position in the cloud.\\nNew Funding Options\\nCodeup’s Cloud Administration program has historically allowed you to select payment options utilizing grants, loans, scholarships, VA Benefits and self-pay. In addition to these options, we now accept GI Bill chapters 33 and 35 as well as VR&E services.\\nGI Bill Chapter 33\\nThe post- 9/11 GI Bill (Chapter 33) provides financial assistance for schooling or job training. Active duty service members beginning September 10, 2001 onward may be eligible for this benefit. Check your eligibility today.\\nGI Bill Chapter 35\\nDependents of Veterans or service members with special circumstances may be eligible for financial assistance for schooling or job training through the DEA program. Check your eligibility today.\\nVR&E Assistance Chapter 31\\nVeterans and family members may be eligible for Veteran Readiness and Employment services (formerly known as Vocational Rehabilitation and Employment). This will provide assistance with job training, education, employment accommodations, resume development and job seeking skills coaching. Apply here.\\nCodeup is a great place to launch your career in tech! We are the first and currently the only accredited bootcamp in Texas!\\nIf you aren’t sure if a career in tech is right for you, consider attending our 100% free instructor-led workshops. These workshops are designed to give you a taste of what you’ll learn in our programs, as well as give you information on financial aid and admissions.\\nWe can also provide program-specific information to your inbox at any time! Get started now or give us a call at (210) 802-7289 and we’ll walk you through the process.\\n*Codeup is accredited for postsecondary, non-degree granting, career and technology programs by the Middle States Commission on Secondary Schools of the Middle States Association of Colleges and Schools, 3624 Market Street, Philadelphia, PA 19104, (267) 284-5000'},\n",
       " {'title': 'Why Dallas is a Great Location for IT Professionals',\n",
       "  'content': 'When breaking into a new career, it is important to explore the job opportunities that exist in your area. A common misconception with tech careers is that the prospect of success is only possible in big cities with a long reputation of successful tech companies. Today we will discuss how Dallas, TX is a major tech hub with enormous potential for success, as the home of the state’s biggest tech workforce.\\nDFW\\nThroughout the years, the tech community across the country has seen a drop in new jobs and tech company growth. The Dallas Fort Worth area has done remarkably well with maintaining its top status for new job postings even through the weak points the field has been facing.\\nAccording to CompTIA, Dallas has held onto their number three position for month-to-month new job postings following Washington D.C. and New York City. For the month of June in 2022, the DFW area had almost 28,000 new jobs listed.\\nTop DFW Tech Companies\\nThe following companies have a history of regularly hiring IT professionals in the DFW area.\\n\\nLockheed Martin\\nJPMorgan Chase\\nUSAA\\nCiti\\nDeloitte\\nVerizon\\nWells Fargo\\nIBM\\nNTT Data\\nInfoVision\\n\\nThese companies reflect a portion of the tech career opportunities in Dallas. Positions for all levels are also available in such a quickly evolving field.\\nHow to Start\\nCodeup is a great place to launch your career in tech! We area career accelerator that helps individuals quickly and seamlessly transition into a new career in tech.\\nOur Dallas location offers a Web Development bootcamp with a 20-week completion time.\\nCodeup is the first and currently the only accredited coding bootcamp in the state of Texas.* We have also been named the best trade/technical school in the DFW area by locals.\\nIf you aren’t sure if a career in tech is right for you, consider attending our 100% free instructor-led workshops. These workshops are designed to give you a taste of what you’ll learn in our programs, as well as give you information on financial aid and admissions.\\nWe can also provide program-specific information to your inbox at any time! Get started now or give us a call at (210) 802-7289 and we’ll walk you through the process.\\n*Codeup is accredited for postsecondary, non-degree granting, career and technology programs by the Middle States Commission on Secondary Schools of the Middle States Association of Colleges and Schools, 3624 Market Street, Philadelphia, PA 19104, (267) 284-5000'},\n",
       " {'title': 'Codeup is ranked #1 Best in DFW 2022',\n",
       "  'content': 'We are excited to announce that Codeup ranked #1 for Best Trade/Technical School in DFW!\\nClick here to see the Best in DFW announcement in the Dallas Morning News.\\nDetails on our Dallas campus and upcoming classes can be found here. We continue to look forward to empowering life change.\\nCodeup Dallas Campus\\n900 Jackson St Dallas, TX 75202'}]"
      ]
     },
     "execution_count": 8,
     "metadata": {},
     "output_type": "execute_result"
    }
   ],
   "source": [
    "articles[0:5]"
   ]
  },
  {
   "cell_type": "code",
   "execution_count": 9,
   "id": "dec67f99",
   "metadata": {},
   "outputs": [
    {
     "data": {
      "text/html": [
       "<div>\n",
       "<style scoped>\n",
       "    .dataframe tbody tr th:only-of-type {\n",
       "        vertical-align: middle;\n",
       "    }\n",
       "\n",
       "    .dataframe tbody tr th {\n",
       "        vertical-align: top;\n",
       "    }\n",
       "\n",
       "    .dataframe thead th {\n",
       "        text-align: right;\n",
       "    }\n",
       "</style>\n",
       "<table border=\"1\" class=\"dataframe\">\n",
       "  <thead>\n",
       "    <tr style=\"text-align: right;\">\n",
       "      <th></th>\n",
       "      <th>title</th>\n",
       "      <th>content</th>\n",
       "    </tr>\n",
       "  </thead>\n",
       "  <tbody>\n",
       "    <tr>\n",
       "      <th>0</th>\n",
       "      <td>Become a Data Scientist in 6 Months!</td>\n",
       "      <td>Are you feeling unfulfilled in your work but w...</td>\n",
       "    </tr>\n",
       "    <tr>\n",
       "      <th>1</th>\n",
       "      <td>Hiring Tech Talent Around the Holidays</td>\n",
       "      <td>Are you a hiring manager having trouble fillin...</td>\n",
       "    </tr>\n",
       "    <tr>\n",
       "      <th>2</th>\n",
       "      <td>Cloud Administration Program New Funding Options</td>\n",
       "      <td>Finding resources to fund your educational goa...</td>\n",
       "    </tr>\n",
       "    <tr>\n",
       "      <th>3</th>\n",
       "      <td>Why Dallas is a Great Location for IT Professi...</td>\n",
       "      <td>When breaking into a new career, it is importa...</td>\n",
       "    </tr>\n",
       "    <tr>\n",
       "      <th>4</th>\n",
       "      <td>Codeup is ranked #1 Best in DFW 2022</td>\n",
       "      <td>We are excited to announce that Codeup ranked ...</td>\n",
       "    </tr>\n",
       "    <tr>\n",
       "      <th>5</th>\n",
       "      <td>Codeup’s Scholarship Offerings</td>\n",
       "      <td>In honor of November being National Scholarshi...</td>\n",
       "    </tr>\n",
       "  </tbody>\n",
       "</table>\n",
       "</div>"
      ],
      "text/plain": [
       "                                               title  \\\n",
       "0               Become a Data Scientist in 6 Months!   \n",
       "1             Hiring Tech Talent Around the Holidays   \n",
       "2   Cloud Administration Program New Funding Options   \n",
       "3  Why Dallas is a Great Location for IT Professi...   \n",
       "4               Codeup is ranked #1 Best in DFW 2022   \n",
       "5                     Codeup’s Scholarship Offerings   \n",
       "\n",
       "                                             content  \n",
       "0  Are you feeling unfulfilled in your work but w...  \n",
       "1  Are you a hiring manager having trouble fillin...  \n",
       "2  Finding resources to fund your educational goa...  \n",
       "3  When breaking into a new career, it is importa...  \n",
       "4  We are excited to announce that Codeup ranked ...  \n",
       "5  In honor of November being National Scholarshi...  "
      ]
     },
     "execution_count": 9,
     "metadata": {},
     "output_type": "execute_result"
    }
   ],
   "source": [
    "blog_article_df = pd.DataFrame(articles)\n",
    "blog_article_df"
   ]
  },
  {
   "cell_type": "code",
   "execution_count": 10,
   "id": "21d022b1",
   "metadata": {},
   "outputs": [],
   "source": [
    "blog_article_df.to_csv('blog_articles.csv', index=False)"
   ]
  },
  {
   "cell_type": "code",
   "execution_count": null,
   "id": "f105f828",
   "metadata": {},
   "outputs": [],
   "source": []
  }
 ],
 "metadata": {
  "kernelspec": {
   "display_name": "Python 3 (ipykernel)",
   "language": "python",
   "name": "python3"
  },
  "language_info": {
   "codemirror_mode": {
    "name": "ipython",
    "version": 3
   },
   "file_extension": ".py",
   "mimetype": "text/x-python",
   "name": "python",
   "nbconvert_exporter": "python",
   "pygments_lexer": "ipython3",
   "version": "3.9.12"
  }
 },
 "nbformat": 4,
 "nbformat_minor": 5
}
