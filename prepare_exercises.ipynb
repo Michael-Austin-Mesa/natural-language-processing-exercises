{
 "cells": [
  {
   "cell_type": "code",
   "execution_count": 1,
   "id": "2c59913d",
   "metadata": {},
   "outputs": [],
   "source": [
    "import unicodedata\n",
    "import re\n",
    "import json\n",
    "\n",
    "import nltk\n",
    "from nltk.tokenize.toktok import ToktokTokenizer\n",
    "from nltk.corpus import stopwords\n",
    "\n",
    "import pandas as pd\n",
    "\n",
    "import acquire as a\n"
   ]
  },
  {
   "cell_type": "code",
   "execution_count": 19,
   "id": "793ab836",
   "metadata": {},
   "outputs": [],
   "source": [
    "def basic_clean(string):\n",
    "    '''\n",
    "    This function accepts a string as an input\n",
    "    then lowercases everything, normalizes unicode\n",
    "    characters, and replaces anything that is\n",
    "    not a letter, number, whitespace, \n",
    "    or a single quote.\n",
    "    '''\n",
    "    cleaned = string.lower()\n",
    "    cleaned = unicodedata.normalize('NFKD', cleaned)\\\n",
    "    .encode('ascii', 'ignore')\\\n",
    "    .decode('utf-8', 'ignore')\n",
    "    cleaned = re.sub(r\"[^a-z0-9'\\s]\", '', cleaned)\n",
    "    \n",
    "    print(cleaned)"
   ]
  },
  {
   "cell_type": "code",
   "execution_count": 20,
   "id": "a61cc448",
   "metadata": {},
   "outputs": [],
   "source": [
    "def tokenize(string):\n",
    "    '''\n",
    "    This function takes in a string as an input\n",
    "    then tokenizes all words in the string.\n",
    "    '''\n",
    "    tokenizer = nltk.tokenize.ToktokTokenizer()\n",
    "    print(tokenizer.tokenize(string, return_str=True)[0:500])"
   ]
  },
  {
   "cell_type": "code",
   "execution_count": 21,
   "id": "fc1c4488",
   "metadata": {},
   "outputs": [],
   "source": [
    "def stem(string):\n",
    "    '''\n",
    "    This function takes in a string as an input\n",
    "    then stems all words in the string.\n",
    "    '''\n",
    "    ps = nltk.porter.PorterStemmer()\n",
    "    stems = [ps.stem(word) for word in string.split()]\n",
    "    print(string_stemmed)"
   ]
  },
  {
   "cell_type": "code",
   "execution_count": 22,
   "id": "fa61ff63",
   "metadata": {},
   "outputs": [],
   "source": [
    "def lemmatize(string):\n",
    "    '''\n",
    "    This function takes in a string as an input\n",
    "    then lemmatizes all words in the string.\n",
    "    '''\n",
    "    lemmas = [wnl.lemmatize(word) for word in string.split()]\n",
    "    string_lemmatized = ' '.join(lemmas)\n",
    "\n",
    "    print(string_lemmatized)"
   ]
  },
  {
   "cell_type": "code",
   "execution_count": 23,
   "id": "16bdba4b",
   "metadata": {},
   "outputs": [],
   "source": [
    "def remove_stopwords(string, extra_words=[], exclude_words=[]):\n",
    "    '''\n",
    "    This function takes in a string as an input\n",
    "    then removes stopwords. The function has two\n",
    "    additional parameters that define additional\n",
    "    stopwords to remove in extra_words as a list,\n",
    "    and defines stopwords to exclude from removal\n",
    "    in exlude_words as a list. extra_words and\n",
    "    exclude_words are empty lists by default.\n",
    "    '''\n",
    "    words = string.split()\n",
    "    filtered_words = [w for w in words if w not in stopword_list]\n",
    "\n",
    "    print('Removed {} stopwords'.format(len(words) - len(filtered_words)))\n",
    "    print('---')\n",
    "\n",
    "    string_without_stopwords = ' '.join(filtered_words)\n",
    "\n",
    "    print(string_without_stopwords)"
   ]
  },
  {
   "cell_type": "code",
   "execution_count": 7,
   "id": "99383fd9",
   "metadata": {},
   "outputs": [],
   "source": [
    "blog_articles = a.get_blog_articles()"
   ]
  },
  {
   "cell_type": "code",
   "execution_count": 9,
   "id": "ad20dd9f",
   "metadata": {},
   "outputs": [],
   "source": [
    "codeup_df = blog_articles"
   ]
  },
  {
   "cell_type": "code",
   "execution_count": 8,
   "id": "eb695d17",
   "metadata": {},
   "outputs": [],
   "source": [
    "news_articles = a.get_news_articles()"
   ]
  },
  {
   "cell_type": "code",
   "execution_count": 10,
   "id": "8ed9d7dd",
   "metadata": {},
   "outputs": [],
   "source": [
    "news_df = news_articles"
   ]
  },
  {
   "cell_type": "code",
   "execution_count": 11,
   "id": "c147f051",
   "metadata": {},
   "outputs": [
    {
     "data": {
      "text/html": [
       "<div>\n",
       "<style scoped>\n",
       "    .dataframe tbody tr th:only-of-type {\n",
       "        vertical-align: middle;\n",
       "    }\n",
       "\n",
       "    .dataframe tbody tr th {\n",
       "        vertical-align: top;\n",
       "    }\n",
       "\n",
       "    .dataframe thead th {\n",
       "        text-align: right;\n",
       "    }\n",
       "</style>\n",
       "<table border=\"1\" class=\"dataframe\">\n",
       "  <thead>\n",
       "    <tr style=\"text-align: right;\">\n",
       "      <th></th>\n",
       "      <th>title</th>\n",
       "      <th>content</th>\n",
       "    </tr>\n",
       "  </thead>\n",
       "  <tbody>\n",
       "    <tr>\n",
       "      <th>0</th>\n",
       "      <td>Become a Data Scientist in 6 Months!</td>\n",
       "      <td>Are you feeling unfulfilled in your work but w...</td>\n",
       "    </tr>\n",
       "    <tr>\n",
       "      <th>1</th>\n",
       "      <td>Hiring Tech Talent Around the Holidays</td>\n",
       "      <td>Are you a hiring manager having trouble fillin...</td>\n",
       "    </tr>\n",
       "    <tr>\n",
       "      <th>2</th>\n",
       "      <td>Cloud Administration Program New Funding Options</td>\n",
       "      <td>Finding resources to fund your educational goa...</td>\n",
       "    </tr>\n",
       "    <tr>\n",
       "      <th>3</th>\n",
       "      <td>Why Dallas is a Great Location for IT Professi...</td>\n",
       "      <td>When breaking into a new career, it is importa...</td>\n",
       "    </tr>\n",
       "    <tr>\n",
       "      <th>4</th>\n",
       "      <td>Codeup is ranked #1 Best in DFW 2022</td>\n",
       "      <td>We are excited to announce that Codeup ranked ...</td>\n",
       "    </tr>\n",
       "    <tr>\n",
       "      <th>5</th>\n",
       "      <td>Codeup’s Scholarship Offerings</td>\n",
       "      <td>In honor of November being National Scholarshi...</td>\n",
       "    </tr>\n",
       "  </tbody>\n",
       "</table>\n",
       "</div>"
      ],
      "text/plain": [
       "                                               title  \\\n",
       "0               Become a Data Scientist in 6 Months!   \n",
       "1             Hiring Tech Talent Around the Holidays   \n",
       "2   Cloud Administration Program New Funding Options   \n",
       "3  Why Dallas is a Great Location for IT Professi...   \n",
       "4               Codeup is ranked #1 Best in DFW 2022   \n",
       "5                     Codeup’s Scholarship Offerings   \n",
       "\n",
       "                                             content  \n",
       "0  Are you feeling unfulfilled in your work but w...  \n",
       "1  Are you a hiring manager having trouble fillin...  \n",
       "2  Finding resources to fund your educational goa...  \n",
       "3  When breaking into a new career, it is importa...  \n",
       "4  We are excited to announce that Codeup ranked ...  \n",
       "5  In honor of November being National Scholarshi...  "
      ]
     },
     "execution_count": 11,
     "metadata": {},
     "output_type": "execute_result"
    }
   ],
   "source": [
    "codeup_df"
   ]
  },
  {
   "cell_type": "code",
   "execution_count": 12,
   "id": "1f6488e4",
   "metadata": {},
   "outputs": [
    {
     "data": {
      "text/html": [
       "<div>\n",
       "<style scoped>\n",
       "    .dataframe tbody tr th:only-of-type {\n",
       "        vertical-align: middle;\n",
       "    }\n",
       "\n",
       "    .dataframe tbody tr th {\n",
       "        vertical-align: top;\n",
       "    }\n",
       "\n",
       "    .dataframe thead th {\n",
       "        text-align: right;\n",
       "    }\n",
       "</style>\n",
       "<table border=\"1\" class=\"dataframe\">\n",
       "  <thead>\n",
       "    <tr style=\"text-align: right;\">\n",
       "      <th></th>\n",
       "      <th>title</th>\n",
       "      <th>content</th>\n",
       "      <th>category</th>\n",
       "    </tr>\n",
       "  </thead>\n",
       "  <tbody>\n",
       "    <tr>\n",
       "      <th>0</th>\n",
       "      <td>Moscow-Goa flight gets bomb threat, makes emer...</td>\n",
       "      <td>A Goa-bound flight from Russia's Moscow made a...</td>\n",
       "      <td>national</td>\n",
       "    </tr>\n",
       "    <tr>\n",
       "      <th>1</th>\n",
       "      <td>Joshimath divided into 3 zones, govt says most...</td>\n",
       "      <td>Uttarakhand's Joshimath, where a majority of b...</td>\n",
       "      <td>national</td>\n",
       "    </tr>\n",
       "    <tr>\n",
       "      <th>2</th>\n",
       "      <td>Which states have reported COVID-19 variant XB...</td>\n",
       "      <td>One new case of COVID-19 variant XBB.1.5, whic...</td>\n",
       "      <td>national</td>\n",
       "    </tr>\n",
       "    <tr>\n",
       "      <th>3</th>\n",
       "      <td>I decided to wear t-shirt till I shiver after ...</td>\n",
       "      <td>Congress leader Rahul Gandhi on Monday told re...</td>\n",
       "      <td>national</td>\n",
       "    </tr>\n",
       "    <tr>\n",
       "      <th>4</th>\n",
       "      <td>2 children charred to death, 4 other siblings ...</td>\n",
       "      <td>At least two children were charred to death an...</td>\n",
       "      <td>national</td>\n",
       "    </tr>\n",
       "  </tbody>\n",
       "</table>\n",
       "</div>"
      ],
      "text/plain": [
       "                                               title  \\\n",
       "0  Moscow-Goa flight gets bomb threat, makes emer...   \n",
       "1  Joshimath divided into 3 zones, govt says most...   \n",
       "2  Which states have reported COVID-19 variant XB...   \n",
       "3  I decided to wear t-shirt till I shiver after ...   \n",
       "4  2 children charred to death, 4 other siblings ...   \n",
       "\n",
       "                                             content  category  \n",
       "0  A Goa-bound flight from Russia's Moscow made a...  national  \n",
       "1  Uttarakhand's Joshimath, where a majority of b...  national  \n",
       "2  One new case of COVID-19 variant XBB.1.5, whic...  national  \n",
       "3  Congress leader Rahul Gandhi on Monday told re...  national  \n",
       "4  At least two children were charred to death an...  national  "
      ]
     },
     "execution_count": 12,
     "metadata": {},
     "output_type": "execute_result"
    }
   ],
   "source": [
    "news_df.head()"
   ]
  },
  {
   "cell_type": "code",
   "execution_count": 14,
   "id": "cb273422",
   "metadata": {},
   "outputs": [
    {
     "data": {
      "text/plain": [
       "title                   Become a Data Scientist in 6 Months!\n",
       "content    Are you feeling unfulfilled in your work but w...\n",
       "Name: 0, dtype: object"
      ]
     },
     "execution_count": 14,
     "metadata": {},
     "output_type": "execute_result"
    }
   ],
   "source": [
    "codeup_df.iloc[0]"
   ]
  },
  {
   "cell_type": "code",
   "execution_count": 24,
   "id": "4235fff9",
   "metadata": {},
   "outputs": [
    {
     "name": "stdout",
     "output_type": "stream",
     "text": [
      "are you feeling unfulfilled in your work but want to avoid returning to the traditional educational route codeup can help starting over as a professional is daunting and not always ideal codeup can help you go from a career you are bored with to a job that excites you in just 6 months\n",
      "heres how\n",
      "data science program\n",
      "during our 20week program you will have the opportunity to take your career to new heights with data science being one of the most needed jobs in tech\n",
      "youll gather data then clean it explore it for trends and apply machine learning models to make predictions\n",
      "upon completing this program you will know how to turn insights into actionable recommendations youll be a huge asset to any company having all the technical skills to become a data scientist with projects upon projects of experience under your belt\n",
      "codeup\n",
      "a common reason individuals opt not to change their careers is fear it is too late codeup has crafted a program that will guide you through your career transition and prove that you can jumpstart a new job at any age and experience level\n",
      "when you decide to attend codeup you get a support system first our admissions team will guide you through getting started as well as assist with getting your financial aid squared away\n",
      "once your program begins you will have industry experts as your instructors who will help you reach your full potential and complete the program successfully\n",
      "next you will have a student experience team ready to assist you with navigating through the program and any of lifes obstacles that may arise\n",
      "finally you have a placement team to help you secure the job youll work so hard to land\n",
      "\n",
      "if you do not land a job within six months of completing a codeup program we will refund 100 of your paid tuition\n",
      "if you arent sure if a career in data science is right for you consider attending our 100 free instructorled workshops these workshops are designed to give you a taste of what youll learn in our programs as well as give you information on financial aid and admissions\n",
      "we can also provide programspecific information to your inbox at any time get started now or give us a call at 210 8027289 and well walk you through the process\n",
      "jumpstart your tech career with the first and only accredited bootcamp in texas\n",
      "codeup is accredited for postsecondary nondegree granting career and technology programs by the middle states commission on secondary schools of the middle states association of colleges and schools 3624 market street philadelphia pa 19104 267 2845000\n"
     ]
    }
   ],
   "source": [
    "basic_clean(codeup_df['content'][0])"
   ]
  },
  {
   "cell_type": "code",
   "execution_count": null,
   "id": "1f6c2fb8",
   "metadata": {},
   "outputs": [],
   "source": []
  }
 ],
 "metadata": {
  "kernelspec": {
   "display_name": "Python 3 (ipykernel)",
   "language": "python",
   "name": "python3"
  },
  "language_info": {
   "codemirror_mode": {
    "name": "ipython",
    "version": 3
   },
   "file_extension": ".py",
   "mimetype": "text/x-python",
   "name": "python",
   "nbconvert_exporter": "python",
   "pygments_lexer": "ipython3",
   "version": "3.9.12"
  }
 },
 "nbformat": 4,
 "nbformat_minor": 5
}
