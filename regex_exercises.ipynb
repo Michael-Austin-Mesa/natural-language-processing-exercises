{
 "cells": [
  {
   "cell_type": "code",
   "execution_count": 1,
   "id": "5890a9c0",
   "metadata": {},
   "outputs": [],
   "source": [
    "import re"
   ]
  },
  {
   "cell_type": "code",
   "execution_count": 34,
   "id": "a112f23b",
   "metadata": {},
   "outputs": [],
   "source": [
    "def is_vowel(string):\n",
    "    '''\n",
    "    This functions accepts a string\n",
    "    as an input and uses a regular \n",
    "    experession to determine if the\n",
    "    passed string is a vowel.\n",
    "    '''\n",
    "    return print(re.search(r'[aeiou]', string, re.IGNORECASE))"
   ]
  },
  {
   "cell_type": "code",
   "execution_count": 38,
   "id": "a77f98ce",
   "metadata": {},
   "outputs": [],
   "source": [
    "def get_vowels(string):\n",
    "    '''\n",
    "    This functions accepts a string\n",
    "    as an input and uses a regular \n",
    "    expression to return all vowels\n",
    "    in the string input.\n",
    "    '''\n",
    "    return print(re.findall(r'[aeiou]', string, re.IGNORECASE))"
   ]
  },
  {
   "cell_type": "code",
   "execution_count": 39,
   "id": "6af95d35",
   "metadata": {},
   "outputs": [
    {
     "name": "stdout",
     "output_type": "stream",
     "text": [
      "<re.Match object; span=(1, 2), match='e'>\n"
     ]
    }
   ],
   "source": [
    "is_vowel('Hello')"
   ]
  },
  {
   "cell_type": "code",
   "execution_count": 40,
   "id": "bda9be16",
   "metadata": {},
   "outputs": [
    {
     "name": "stdout",
     "output_type": "stream",
     "text": [
      "<re.Match object; span=(1, 2), match='o'>\n"
     ]
    }
   ],
   "source": [
    "is_vowel('Wow, I really like this function.')"
   ]
  },
  {
   "cell_type": "code",
   "execution_count": 41,
   "id": "9de05663",
   "metadata": {},
   "outputs": [
    {
     "name": "stdout",
     "output_type": "stream",
     "text": [
      "['I', 'i', 'e', 'i', 'u', 'i', 'o', 'e', 'e', 'a', 'i', 'o', 'e']\n"
     ]
    }
   ],
   "source": [
    "get_vowels('I like this function better than is_vowel().')"
   ]
  },
  {
   "cell_type": "code",
   "execution_count": 99,
   "id": "bd1dedd3",
   "metadata": {},
   "outputs": [],
   "source": [
    "def is_valid_username(username):\n",
    "    '''\n",
    "    This function accepts a string\n",
    "    as an input and checks for a\n",
    "    valid username. A valid username\n",
    "    only consists of lowercase letters,\n",
    "    numbers, or underscores _, and is\n",
    "    no longer than 32 characters. The\n",
    "    function will return True or False\n",
    "    depending on whether the passed \n",
    "    string is a valid username.\n",
    "    '''\n",
    "    valid_characters = re.findall('^[a-z][a-z0-9_]{,31}$', username)\n",
    "    if valid_characters != []:\n",
    "        return print(True)\n",
    "    else:\n",
    "        return print(False)"
   ]
  },
  {
   "cell_type": "code",
   "execution_count": 109,
   "id": "63c2d09e",
   "metadata": {},
   "outputs": [
    {
     "name": "stdout",
     "output_type": "stream",
     "text": [
      "False\n",
      "True\n",
      "False\n",
      "True\n",
      "False\n"
     ]
    }
   ],
   "source": [
    "is_valid_username('aaaaaaaaaaaaaaaaaaaaaaaaaaaaaaaaa')\n",
    "is_valid_username('codeup')\n",
    "is_valid_username('Codeup')\n",
    "is_valid_username('codeup123')\n",
    "is_valid_username('1codeup')"
   ]
  },
  {
   "cell_type": "code",
   "execution_count": 110,
   "id": "2f5863c6",
   "metadata": {},
   "outputs": [],
   "source": [
    "def is_valid_phone_number(phone_number='(210) 867 5309'):\n",
    "    valid_exp = r'^[\\(+]?[1]?\\s?\\d+[\\s)-]\\s?\\d*[\\.\\-\\s]\\d+[-\\.]?\\d+[-]?\\d+$'\n",
    "    valid = re.findall(valid_exp, phone_number)\n",
    "    if len(valid) == 0:\n",
    "        return False\n",
    "    else:\n",
    "        return True"
   ]
  },
  {
   "cell_type": "code",
   "execution_count": 111,
   "id": "aeff6661",
   "metadata": {},
   "outputs": [
    {
     "name": "stdout",
     "output_type": "stream",
     "text": [
      "True\n",
      "True\n",
      "False Fix\n",
      "True\n"
     ]
    }
   ],
   "source": [
    "print(is_valid_phone_number('(210) 867 5309'))\n",
    "print(is_valid_phone_number('+1 210.867.5309'))\n",
    "print(is_valid_phone_number('867-5309'), 'Fix')\n",
    "print(is_valid_phone_number('210-867-5309'))"
   ]
  },
  {
   "cell_type": "code",
   "execution_count": null,
   "id": "5ddab5f1",
   "metadata": {},
   "outputs": [],
   "source": []
  }
 ],
 "metadata": {
  "kernelspec": {
   "display_name": "Python 3 (ipykernel)",
   "language": "python",
   "name": "python3"
  },
  "language_info": {
   "codemirror_mode": {
    "name": "ipython",
    "version": 3
   },
   "file_extension": ".py",
   "mimetype": "text/x-python",
   "name": "python",
   "nbconvert_exporter": "python",
   "pygments_lexer": "ipython3",
   "version": "3.9.12"
  }
 },
 "nbformat": 4,
 "nbformat_minor": 5
}
