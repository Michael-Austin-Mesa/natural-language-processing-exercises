{
 "cells": [
  {
   "cell_type": "code",
   "execution_count": 114,
   "id": "1b8593b6",
   "metadata": {},
   "outputs": [],
   "source": [
    "import re\n",
    "import pandas as pd"
   ]
  },
  {
   "cell_type": "markdown",
   "id": "b1937661",
   "metadata": {},
   "source": [
    "# Vowels"
   ]
  },
  {
   "cell_type": "code",
   "execution_count": 120,
   "id": "d8c2d37b",
   "metadata": {},
   "outputs": [],
   "source": [
    "def is_vowel(string):\n",
    "    '''\n",
    "    This functions accepts a string\n",
    "    as an input and uses a regular \n",
    "    experession to determine if the\n",
    "    passed string is a vowel.\n",
    "    '''\n",
    "    return bool(re.search(r'^[aeiou]{1}$', string, re.IGNORECASE))"
   ]
  },
  {
   "cell_type": "code",
   "execution_count": 38,
   "id": "26cf7538",
   "metadata": {},
   "outputs": [],
   "source": [
    "def get_vowels(string):\n",
    "    '''\n",
    "    This functions accepts a string\n",
    "    as an input and uses a regular \n",
    "    expression to return all vowels\n",
    "    in the string input.\n",
    "    '''\n",
    "    return print(re.findall(r'[aeiou]', string, re.IGNORECASE))"
   ]
  },
  {
   "cell_type": "code",
   "execution_count": 123,
   "id": "11ee827e",
   "metadata": {
    "scrolled": true
   },
   "outputs": [
    {
     "data": {
      "text/plain": [
       "True"
      ]
     },
     "execution_count": 123,
     "metadata": {},
     "output_type": "execute_result"
    }
   ],
   "source": [
    "is_vowel('O')"
   ]
  },
  {
   "cell_type": "code",
   "execution_count": 122,
   "id": "d5da4433",
   "metadata": {
    "scrolled": true
   },
   "outputs": [
    {
     "data": {
      "text/plain": [
       "False"
      ]
     },
     "execution_count": 122,
     "metadata": {},
     "output_type": "execute_result"
    }
   ],
   "source": [
    "is_vowel('Wow, I really like this function.')"
   ]
  },
  {
   "cell_type": "code",
   "execution_count": 41,
   "id": "f44f2f7f",
   "metadata": {
    "scrolled": true
   },
   "outputs": [
    {
     "name": "stdout",
     "output_type": "stream",
     "text": [
      "['I', 'i', 'e', 'i', 'u', 'i', 'o', 'e', 'e', 'a', 'i', 'o', 'e']\n"
     ]
    }
   ],
   "source": [
    "get_vowels('I like this function better than is_vowel().')"
   ]
  },
  {
   "cell_type": "markdown",
   "id": "270d99f7",
   "metadata": {},
   "source": [
    "# Usernames"
   ]
  },
  {
   "cell_type": "code",
   "execution_count": 99,
   "id": "4cdc4154",
   "metadata": {},
   "outputs": [],
   "source": [
    "def is_valid_username(username):\n",
    "    '''\n",
    "    This function accepts a string\n",
    "    as an input and checks for a\n",
    "    valid username. A valid username\n",
    "    consists of lowercase letters,\n",
    "    numbers, or underscores _, and is\n",
    "    no longer than 32 characters. The\n",
    "    function will return True or False\n",
    "    depending on whether the passed \n",
    "    string is a valid username.\n",
    "    '''\n",
    "    valid_characters = re.findall('^[a-z][a-z0-9_]{,31}$', username)\n",
    "    if valid_characters != []:\n",
    "        return print(True)\n",
    "    else:\n",
    "        return print(False)"
   ]
  },
  {
   "cell_type": "code",
   "execution_count": 109,
   "id": "9bcda0be",
   "metadata": {
    "scrolled": true
   },
   "outputs": [
    {
     "name": "stdout",
     "output_type": "stream",
     "text": [
      "False\n",
      "True\n",
      "False\n",
      "True\n",
      "False\n"
     ]
    }
   ],
   "source": [
    "is_valid_username('aaaaaaaaaaaaaaaaaaaaaaaaaaaaaaaaa')\n",
    "is_valid_username('codeup')\n",
    "is_valid_username('Codeup')\n",
    "is_valid_username('codeup123')\n",
    "is_valid_username('1codeup')"
   ]
  },
  {
   "cell_type": "markdown",
   "id": "6acff044",
   "metadata": {},
   "source": [
    "# Phone Numbers"
   ]
  },
  {
   "cell_type": "code",
   "execution_count": 112,
   "id": "6f0cd46f",
   "metadata": {},
   "outputs": [],
   "source": [
    "def is_valid_phone_number(phone_number):\n",
    "    '''\n",
    "    This function accepts a string\n",
    "    as an input and checks for a\n",
    "    valid phone number. A valid\n",
    "    phone number consists of numbers,\n",
    "    hyphens - or periods . between sets\n",
    "    of numbers, parenthesis () around\n",
    "    area codes, a plus + at the start\n",
    "    of the string, and white space\n",
    "    where appropriate.\n",
    "    '''\n",
    "    valid_exp = r'^[\\(+]?[1]?\\s?\\d+[\\s)-]\\s?\\d*[\\.\\-\\s]\\d+[-\\.]?\\d+[-]?\\d+$'\n",
    "    valid = re.findall(valid_exp, phone_number)\n",
    "    if len(valid) == 0:\n",
    "        return False\n",
    "    else:\n",
    "        return True"
   ]
  },
  {
   "cell_type": "code",
   "execution_count": 111,
   "id": "5c15184a",
   "metadata": {
    "scrolled": true
   },
   "outputs": [
    {
     "name": "stdout",
     "output_type": "stream",
     "text": [
      "True\n",
      "True\n",
      "False Fix\n",
      "True\n"
     ]
    }
   ],
   "source": [
    "print(is_valid_phone_number('(210) 867 5309'))\n",
    "print(is_valid_phone_number('+1 210.867.5309'))\n",
    "print(is_valid_phone_number('867-5309'), 'Fix')\n",
    "print(is_valid_phone_number('210-867-5309'))"
   ]
  },
  {
   "cell_type": "markdown",
   "id": "ca049f86",
   "metadata": {},
   "source": [
    "# Dates"
   ]
  },
  {
   "cell_type": "code",
   "execution_count": 131,
   "id": "7a17e677",
   "metadata": {},
   "outputs": [
    {
     "data": {
      "text/plain": [
       "['02/04/19',\n",
       " '02/05/19',\n",
       " '02/06/19',\n",
       " '02/07/19',\n",
       " '02/08/19',\n",
       " '02/09/19',\n",
       " '02/10/19']"
      ]
     },
     "execution_count": 131,
     "metadata": {},
     "output_type": "execute_result"
    }
   ],
   "source": [
    "date_list = [\"02/04/19\",\n",
    "             \"02/05/19\",\n",
    "             \"02/06/19\",\n",
    "             \"02/07/19\",\n",
    "             \"02/08/19\",\n",
    "             \"02/09/19\",\n",
    "             \"02/10/19\",\n",
    "            ]\n",
    "\n",
    "date_list"
   ]
  },
  {
   "cell_type": "code",
   "execution_count": 132,
   "id": "103a21f8",
   "metadata": {},
   "outputs": [
    {
     "data": {
      "text/plain": [
       "0    02/04/19\n",
       "1    02/05/19\n",
       "2    02/06/19\n",
       "3    02/07/19\n",
       "4    02/08/19\n",
       "5    02/09/19\n",
       "6    02/10/19\n",
       "dtype: object"
      ]
     },
     "execution_count": 132,
     "metadata": {},
     "output_type": "execute_result"
    }
   ],
   "source": [
    "dates = pd.Series(date_list)\n",
    "dates"
   ]
  },
  {
   "cell_type": "code",
   "execution_count": 133,
   "id": "c3b84b10",
   "metadata": {},
   "outputs": [
    {
     "data": {
      "text/plain": [
       "0    2019-02-04\n",
       "1    2019-02-05\n",
       "2    2019-02-06\n",
       "3    2019-02-07\n",
       "4    2019-02-08\n",
       "5    2019-02-09\n",
       "6    2019-02-10\n",
       "dtype: object"
      ]
     },
     "execution_count": 133,
     "metadata": {},
     "output_type": "execute_result"
    }
   ],
   "source": [
    "dates.str.replace(r'(\\d{2})/(\\d{2})/(\\d{2})', r'20\\3-\\1-\\2', regex=True)"
   ]
  },
  {
   "cell_type": "markdown",
   "id": "3ff40e4e",
   "metadata": {},
   "source": [
    "# Extract pieces of logfile lines"
   ]
  },
  {
   "cell_type": "code",
   "execution_count": null,
   "id": "5e88fdb1",
   "metadata": {},
   "outputs": [],
   "source": [
    "logfile_re = r'''\n",
    "^(?P<method>GET|POST)\n",
    "\\s+\n",
    "(?P<path>.*?)\n",
    "\\s+\n",
    "\\[(?P<timestamp>.*?)\\]\n",
    "\\s+\n",
    "(?P<http_version>.*?)\n",
    "\\s+\n",
    "\\{(?P<status>\\d+)\\}\n",
    "\\s+\n",
    "(?P<bytes>\\d+)\n",
    "\\s+\n",
    "\"(?P<user_agent>.*)\"\n",
    "\\s+\n",
    "(?P<ip>.*)$\n",
    "'''\n",
    "\n",
    "lines = pd.Series([\n",
    "    'GET /api/v1/sales?page=86 [16/Apr/2019:193452+0000] HTTP/1.1 {200} 510348 \"python-requests/2.21.0\" 97.105.19.58',\n",
    "    'POST /users_accounts/file-upload [16/Apr/2019:193452+0000] HTTP/1.1 {201} 42 \"User-Agent: Mozilla/5.0 (X11; Fedora; Fedora; Linux x86_64) AppleWebKit/537.36 (KHTML, like Gecko) Chrome/73.0.3683.86 Safari/537.36\" 97.105.19.58',\n",
    "    'GET /api/v1/items?page=3 [16/Apr/2019:193453+0000] HTTP/1.1 {429} 3561 \"python-requests/2.21.0\" 97.105.19.58',\n",
    "])"
   ]
  }
 ],
 "metadata": {
  "kernelspec": {
   "display_name": "Python 3 (ipykernel)",
   "language": "python",
   "name": "python3"
  },
  "language_info": {
   "codemirror_mode": {
    "name": "ipython",
    "version": 3
   },
   "file_extension": ".py",
   "mimetype": "text/x-python",
   "name": "python",
   "nbconvert_exporter": "python",
   "pygments_lexer": "ipython3",
   "version": "3.9.12"
  }
 },
 "nbformat": 4,
 "nbformat_minor": 5
}
