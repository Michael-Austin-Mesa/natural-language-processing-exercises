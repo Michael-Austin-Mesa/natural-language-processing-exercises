{
 "cells": [
  {
   "cell_type": "code",
   "execution_count": 1,
   "id": "cadaf626",
   "metadata": {},
   "outputs": [],
   "source": [
    "import re"
   ]
  },
  {
   "cell_type": "code",
   "execution_count": 34,
   "id": "1d01ebd0",
   "metadata": {},
   "outputs": [],
   "source": [
    "def is_vowel(string):\n",
    "    '''\n",
    "    This functions accepts a string\n",
    "    as an input and uses a regular \n",
    "    experession to determine if the\n",
    "    passed string is a vowel.\n",
    "    '''\n",
    "    return print(re.search(r'[aeiou]', string, re.IGNORECASE))"
   ]
  },
  {
   "cell_type": "code",
   "execution_count": 38,
   "id": "ced126a4",
   "metadata": {},
   "outputs": [],
   "source": [
    "def get_vowels(string):\n",
    "    '''\n",
    "    This functions accepts a string\n",
    "    as an input and uses a regular \n",
    "    expression to return all vowels\n",
    "    in the string input.\n",
    "    '''\n",
    "    return print(re.findall(r'[aeiou]', string, re.IGNORECASE))"
   ]
  },
  {
   "cell_type": "code",
   "execution_count": 39,
   "id": "565af1fa",
   "metadata": {},
   "outputs": [
    {
     "name": "stdout",
     "output_type": "stream",
     "text": [
      "<re.Match object; span=(1, 2), match='e'>\n"
     ]
    }
   ],
   "source": [
    "is_vowel('Hello')"
   ]
  },
  {
   "cell_type": "code",
   "execution_count": 40,
   "id": "07a2dd7b",
   "metadata": {},
   "outputs": [
    {
     "name": "stdout",
     "output_type": "stream",
     "text": [
      "<re.Match object; span=(1, 2), match='o'>\n"
     ]
    }
   ],
   "source": [
    "is_vowel('Wow, I really like this function.')"
   ]
  },
  {
   "cell_type": "code",
   "execution_count": 41,
   "id": "c0a767d8",
   "metadata": {},
   "outputs": [
    {
     "name": "stdout",
     "output_type": "stream",
     "text": [
      "['I', 'i', 'e', 'i', 'u', 'i', 'o', 'e', 'e', 'a', 'i', 'o', 'e']\n"
     ]
    }
   ],
   "source": [
    "get_vowels('I like this function better than is_vowel().')"
   ]
  },
  {
   "cell_type": "code",
   "execution_count": 85,
   "id": "71e32a10",
   "metadata": {},
   "outputs": [],
   "source": [
    "def is_valid_username(username):\n",
    "    '''\n",
    "    This function accepts a string\n",
    "    as an input and checks for a\n",
    "    valid username. A valid username\n",
    "    only consists of lowercase letters,\n",
    "    numbers, or underscores _, and is\n",
    "    no longer than 32 characters. The\n",
    "    function will return True or False\n",
    "    depending on whether the passed \n",
    "    string is a valid username.\n",
    "    '''\n",
    "    \n",
    "    return print(re.match(r'^[a-z][a-z0-9_]$', username))"
   ]
  },
  {
   "cell_type": "code",
   "execution_count": 86,
   "id": "917e2677",
   "metadata": {},
   "outputs": [
    {
     "name": "stdout",
     "output_type": "stream",
     "text": [
      "None\n"
     ]
    }
   ],
   "source": [
    "is_valid_username('codeup123')"
   ]
  },
  {
   "cell_type": "code",
   "execution_count": 88,
   "id": "6cf9c118",
   "metadata": {},
   "outputs": [
    {
     "ename": "AttributeError",
     "evalue": "'str' object has no attribute 'match'",
     "output_type": "error",
     "traceback": [
      "\u001b[0;31m---------------------------------------------------------------------------\u001b[0m",
      "\u001b[0;31mAttributeError\u001b[0m                            Traceback (most recent call last)",
      "Input \u001b[0;32mIn [88]\u001b[0m, in \u001b[0;36m<cell line: 1>\u001b[0;34m()\u001b[0m\n\u001b[0;32m----> 1\u001b[0m \u001b[38;5;124;43m'\u001b[39;49m\u001b[38;5;124;43mcodeup\u001b[39;49m\u001b[38;5;124;43m'\u001b[39;49m\u001b[38;5;241;43m.\u001b[39;49m\u001b[43mmatch\u001b[49m(\u001b[38;5;124mr\u001b[39m\u001b[38;5;124m'\u001b[39m\u001b[38;5;124m^[a-z][a-z0-9_]$\u001b[39m\u001b[38;5;124m'\u001b[39m)\n",
      "\u001b[0;31mAttributeError\u001b[0m: 'str' object has no attribute 'match'"
     ]
    }
   ],
   "source": [
    "'codeup'.match(r'^[a-z][a-z0-9_]$')"
   ]
  },
  {
   "cell_type": "code",
   "execution_count": null,
   "id": "7260ebdd",
   "metadata": {},
   "outputs": [],
   "source": []
  }
 ],
 "metadata": {
  "kernelspec": {
   "display_name": "Python 3 (ipykernel)",
   "language": "python",
   "name": "python3"
  },
  "language_info": {
   "codemirror_mode": {
    "name": "ipython",
    "version": 3
   },
   "file_extension": ".py",
   "mimetype": "text/x-python",
   "name": "python",
   "nbconvert_exporter": "python",
   "pygments_lexer": "ipython3",
   "version": "3.9.12"
  }
 },
 "nbformat": 4,
 "nbformat_minor": 5
}
